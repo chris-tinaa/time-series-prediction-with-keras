{
  "nbformat": 4,
  "nbformat_minor": 0,
  "metadata": {
    "kernelspec": {
      "language": "python",
      "display_name": "Python 3",
      "name": "python3"
    },
    "language_info": {
      "pygments_lexer": "ipython3",
      "nbconvert_exporter": "python",
      "version": "3.6.4",
      "file_extension": ".py",
      "codemirror_mode": {
        "name": "ipython",
        "version": 3
      },
      "name": "python",
      "mimetype": "text/x-python"
    },
    "colab": {
      "name": "time-series-prediction-with-keras.ipynb",
      "provenance": [],
      "include_colab_link": true
    }
  },
  "cells": [
    {
      "cell_type": "markdown",
      "metadata": {
        "id": "view-in-github",
        "colab_type": "text"
      },
      "source": [
        "<a href=\"https://colab.research.google.com/github/chris-tinaa/time-series-prediction-with-keras/blob/main/time_series_prediction_with_keras.ipynb\" target=\"_parent\"><img src=\"https://colab.research.google.com/assets/colab-badge.svg\" alt=\"Open In Colab\"/></a>"
      ]
    },
    {
      "cell_type": "markdown",
      "metadata": {
        "id": "qmq6hdofmkCp"
      },
      "source": [
        "# Template"
      ]
    },
    {
      "cell_type": "code",
      "metadata": {
        "_uuid": "8f2839f25d086af736a60e9eeb907d3b93b6e0e5",
        "_cell_guid": "b1076dfc-b9ad-4769-8c92-a6c4dae69d19",
        "trusted": true,
        "colab": {
          "resources": {
            "http://localhost:8080/nbextensions/google.colab/files.js": {
              "data": "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",
              "ok": true,
              "headers": [
                [
                  "content-type",
                  "application/javascript"
                ]
              ],
              "status": 200,
              "status_text": ""
            }
          },
          "base_uri": "https://localhost:8080/",
          "height": 110
        },
        "id": "Bc8zPlYljWrc",
        "outputId": "237bd06d-3f7f-40bc-c8a6-01cd8f498bd1"
      },
      "source": [
        "import numpy as np # linear algebra\n",
        "import pandas as pd # data processing\n",
        "import matplotlib.pyplot as plt # data visualization\n",
        "from google.colab import files\n",
        "\n",
        "upload = files.upload()"
      ],
      "execution_count": null,
      "outputs": [
        {
          "output_type": "display_data",
          "data": {
            "text/html": [
              "\n",
              "     <input type=\"file\" id=\"files-c6eee4ca-8cd1-4f87-afce-72ebbd977f20\" name=\"files[]\" multiple disabled\n",
              "        style=\"border:none\" />\n",
              "     <output id=\"result-c6eee4ca-8cd1-4f87-afce-72ebbd977f20\">\n",
              "      Upload widget is only available when the cell has been executed in the\n",
              "      current browser session. Please rerun this cell to enable.\n",
              "      </output>\n",
              "      <script src=\"/nbextensions/google.colab/files.js\"></script> "
            ],
            "text/plain": [
              "<IPython.core.display.HTML object>"
            ]
          },
          "metadata": {
            "tags": []
          }
        },
        {
          "output_type": "stream",
          "text": [
            "Saving MW.Data Assessment Excel Section A Part 1.xlsx to MW.Data Assessment Excel Section A Part 1 (1).xlsx\n"
          ],
          "name": "stdout"
        }
      ]
    },
    {
      "cell_type": "code",
      "metadata": {
        "trusted": true,
        "id": "3OszsFgVjWrg"
      },
      "source": [
        "# pip install yfinance\n",
        "# import yfinance\n",
        "# df = yf.download('BTC-USD','2017-01-02','2019-11-16')"
      ],
      "execution_count": null,
      "outputs": []
    },
    {
      "cell_type": "markdown",
      "metadata": {
        "id": "GyTV0zsijWrh"
      },
      "source": [
        "I can't install 'yfinance' since that I haven't verified my phone on Kaggle yet. \n",
        "\n",
        "So, I have uploaded the dataset (downloaded from the yahoo finance website\n",
        "[Bitcoin USD historical data](http://https://finance.yahoo.com/quote/BTC-USD/history?period1=1483209000&period2=1573756200&interval=1d&filter=history&frequency=1d))."
      ]
    },
    {
      "cell_type": "code",
      "metadata": {
        "_uuid": "d629ff2d2480ee46fbb7e2d37f6b5fab8052498a",
        "_cell_guid": "79c7e3d0-c299-4dcb-8224-4455121ee9b0",
        "trusted": true,
        "id": "30yrjgPhjWri"
      },
      "source": [
        "df = pd.read_excel(upload['MW.Data Assessment Excel Section A Part 1.xlsx'], sheet_name='SectionB_subtable')"
      ],
      "execution_count": null,
      "outputs": []
    },
    {
      "cell_type": "markdown",
      "metadata": {
        "id": "oYIM-v8ejWri"
      },
      "source": [
        "**2. Data Exploration**\n",
        "\n",
        "Let's have a quick look first"
      ]
    },
    {
      "cell_type": "code",
      "metadata": {
        "trusted": true,
        "colab": {
          "base_uri": "https://localhost:8080/",
          "height": 195
        },
        "id": "30QEN4dnjWri",
        "outputId": "d72c2e37-9a1c-40fb-8543-583f3933cb10"
      },
      "source": [
        "df.head()"
      ],
      "execution_count": null,
      "outputs": [
        {
          "output_type": "execute_result",
          "data": {
            "text/html": [
              "<div>\n",
              "<style scoped>\n",
              "    .dataframe tbody tr th:only-of-type {\n",
              "        vertical-align: middle;\n",
              "    }\n",
              "\n",
              "    .dataframe tbody tr th {\n",
              "        vertical-align: top;\n",
              "    }\n",
              "\n",
              "    .dataframe thead th {\n",
              "        text-align: right;\n",
              "    }\n",
              "</style>\n",
              "<table border=\"1\" class=\"dataframe\">\n",
              "  <thead>\n",
              "    <tr style=\"text-align: right;\">\n",
              "      <th></th>\n",
              "      <th>Date</th>\n",
              "      <th>Audience</th>\n",
              "    </tr>\n",
              "  </thead>\n",
              "  <tbody>\n",
              "    <tr>\n",
              "      <th>0</th>\n",
              "      <td>2014-07-19</td>\n",
              "      <td>5961</td>\n",
              "    </tr>\n",
              "    <tr>\n",
              "      <th>1</th>\n",
              "      <td>2014-07-20</td>\n",
              "      <td>4892</td>\n",
              "    </tr>\n",
              "    <tr>\n",
              "      <th>2</th>\n",
              "      <td>2014-07-21</td>\n",
              "      <td>3971</td>\n",
              "    </tr>\n",
              "    <tr>\n",
              "      <th>3</th>\n",
              "      <td>2014-07-22</td>\n",
              "      <td>4575</td>\n",
              "    </tr>\n",
              "    <tr>\n",
              "      <th>4</th>\n",
              "      <td>2014-07-23</td>\n",
              "      <td>4268</td>\n",
              "    </tr>\n",
              "  </tbody>\n",
              "</table>\n",
              "</div>"
            ],
            "text/plain": [
              "       Date   Audience\n",
              "0 2014-07-19      5961\n",
              "1 2014-07-20      4892\n",
              "2 2014-07-21      3971\n",
              "3 2014-07-22      4575\n",
              "4 2014-07-23      4268"
            ]
          },
          "metadata": {
            "tags": []
          },
          "execution_count": 725
        }
      ]
    },
    {
      "cell_type": "code",
      "metadata": {
        "colab": {
          "base_uri": "https://localhost:8080/"
        },
        "id": "aLJxLP2MgmA3",
        "outputId": "219739ab-da46-409c-ffa7-9f091981d3aa"
      },
      "source": [
        "df.info()"
      ],
      "execution_count": null,
      "outputs": [
        {
          "output_type": "stream",
          "text": [
            "<class 'pandas.core.frame.DataFrame'>\n",
            "RangeIndex: 95 entries, 0 to 94\n",
            "Data columns (total 2 columns):\n",
            " #   Column    Non-Null Count  Dtype         \n",
            "---  ------    --------------  -----         \n",
            " 0   Date      95 non-null     datetime64[ns]\n",
            " 1   Audience  95 non-null     int64         \n",
            "dtypes: datetime64[ns](1), int64(1)\n",
            "memory usage: 1.6 KB\n"
          ],
          "name": "stdout"
        }
      ]
    },
    {
      "cell_type": "markdown",
      "metadata": {
        "id": "r-xhXkOfjWrj"
      },
      "source": [
        "So, we have a datetime column, which is nice. \n",
        "\n",
        "Then the opening value at the start of every trading day, the closing values at whatever time traders must have call it a day, the highest and lowest values during each, and two other columns which I'm not so sure about, so I won't bother.\n",
        "\n",
        "What we are interested in is just the closing value."
      ]
    },
    {
      "cell_type": "code",
      "metadata": {
        "trusted": true,
        "id": "yO812XOnjWrk"
      },
      "source": [
        "df_close = pd.DataFrame(df['Audience'])"
      ],
      "execution_count": null,
      "outputs": []
    },
    {
      "cell_type": "code",
      "metadata": {
        "trusted": true,
        "id": "CVWWrLIljWrk"
      },
      "source": [
        "df_close.index = pd.to_datetime(df['Date '])"
      ],
      "execution_count": null,
      "outputs": []
    },
    {
      "cell_type": "markdown",
      "metadata": {
        "id": "lI4CGkCtjWrk"
      },
      "source": [
        "It's better to have the DataFrame index in datetime format (pd.datetime) since it makes plotting, and slicing easier"
      ]
    },
    {
      "cell_type": "code",
      "metadata": {
        "trusted": true,
        "colab": {
          "base_uri": "https://localhost:8080/"
        },
        "id": "7ZzKspjBjWrl",
        "outputId": "789fba7d-3379-42a3-a38c-4c1970440d3b"
      },
      "source": [
        "df_close.index"
      ],
      "execution_count": null,
      "outputs": [
        {
          "output_type": "execute_result",
          "data": {
            "text/plain": [
              "DatetimeIndex(['2014-07-19', '2014-07-20', '2014-07-21', '2014-07-22',\n",
              "               '2014-07-23', '2014-07-24', '2014-07-25', '2014-07-26',\n",
              "               '2014-07-27', '2014-07-28', '2014-07-29', '2014-07-30',\n",
              "               '2014-07-31', '2014-08-01', '2014-08-02', '2014-08-03',\n",
              "               '2014-08-04', '2014-08-05', '2014-08-06', '2014-08-07',\n",
              "               '2014-08-08', '2014-08-09', '2014-08-10', '2014-08-11',\n",
              "               '2014-08-12', '2014-08-13', '2014-08-14', '2014-08-15',\n",
              "               '2014-08-16', '2014-08-17', '2014-08-18', '2014-08-19',\n",
              "               '2014-08-20', '2014-08-21', '2014-08-22', '2014-08-23',\n",
              "               '2014-08-24', '2014-08-25', '2014-08-26', '2014-08-27',\n",
              "               '2014-08-28', '2014-08-29', '2014-08-30', '2014-08-31',\n",
              "               '2014-09-01', '2014-09-02', '2014-09-03', '2014-09-04',\n",
              "               '2014-09-05', '2014-09-06', '2014-09-07', '2014-09-08',\n",
              "               '2014-09-09', '2014-09-10', '2014-09-11', '2014-09-12',\n",
              "               '2014-09-13', '2014-09-14', '2014-09-15', '2014-09-16',\n",
              "               '2014-09-17', '2014-09-18', '2014-09-19', '2014-09-20',\n",
              "               '2014-09-21', '2014-09-22', '2014-09-23', '2014-09-24',\n",
              "               '2014-09-25', '2014-09-26', '2014-09-27', '2014-09-28',\n",
              "               '2014-09-29', '2014-09-30', '2014-10-01', '2014-10-02',\n",
              "               '2014-10-03', '2014-10-04', '2014-10-05', '2014-10-06',\n",
              "               '2014-10-07', '2014-10-08', '2014-10-09', '2014-10-10',\n",
              "               '2014-10-11', '2014-10-12', '2014-10-13', '2014-10-14',\n",
              "               '2014-10-15', '2014-10-16', '2014-10-17', '2014-10-18',\n",
              "               '2014-10-19', '2014-10-20', '2014-10-21'],\n",
              "              dtype='datetime64[ns]', name='Date ', freq=None)"
            ]
          },
          "metadata": {
            "tags": []
          },
          "execution_count": 728
        }
      ]
    },
    {
      "cell_type": "code",
      "metadata": {
        "trusted": true,
        "colab": {
          "base_uri": "https://localhost:8080/",
          "height": 225
        },
        "id": "SFEQSZnijWrl",
        "outputId": "c6eabcc6-bd56-4ce0-8cc5-46d7561b9dbb"
      },
      "source": [
        "df_close.head()"
      ],
      "execution_count": null,
      "outputs": [
        {
          "output_type": "execute_result",
          "data": {
            "text/html": [
              "<div>\n",
              "<style scoped>\n",
              "    .dataframe tbody tr th:only-of-type {\n",
              "        vertical-align: middle;\n",
              "    }\n",
              "\n",
              "    .dataframe tbody tr th {\n",
              "        vertical-align: top;\n",
              "    }\n",
              "\n",
              "    .dataframe thead th {\n",
              "        text-align: right;\n",
              "    }\n",
              "</style>\n",
              "<table border=\"1\" class=\"dataframe\">\n",
              "  <thead>\n",
              "    <tr style=\"text-align: right;\">\n",
              "      <th></th>\n",
              "      <th>Audience</th>\n",
              "    </tr>\n",
              "    <tr>\n",
              "      <th>Date</th>\n",
              "      <th></th>\n",
              "    </tr>\n",
              "  </thead>\n",
              "  <tbody>\n",
              "    <tr>\n",
              "      <th>2014-07-19</th>\n",
              "      <td>5961</td>\n",
              "    </tr>\n",
              "    <tr>\n",
              "      <th>2014-07-20</th>\n",
              "      <td>4892</td>\n",
              "    </tr>\n",
              "    <tr>\n",
              "      <th>2014-07-21</th>\n",
              "      <td>3971</td>\n",
              "    </tr>\n",
              "    <tr>\n",
              "      <th>2014-07-22</th>\n",
              "      <td>4575</td>\n",
              "    </tr>\n",
              "    <tr>\n",
              "      <th>2014-07-23</th>\n",
              "      <td>4268</td>\n",
              "    </tr>\n",
              "  </tbody>\n",
              "</table>\n",
              "</div>"
            ],
            "text/plain": [
              "            Audience\n",
              "Date                \n",
              "2014-07-19      5961\n",
              "2014-07-20      4892\n",
              "2014-07-21      3971\n",
              "2014-07-22      4575\n",
              "2014-07-23      4268"
            ]
          },
          "metadata": {
            "tags": []
          },
          "execution_count": 729
        }
      ]
    },
    {
      "cell_type": "code",
      "metadata": {
        "trusted": true,
        "colab": {
          "base_uri": "https://localhost:8080/",
          "height": 284
        },
        "id": "W5icmnxdjWrm",
        "outputId": "c4f2c072-a364-40a6-8ff0-d51e0d54a903"
      },
      "source": [
        "df_close.describe()"
      ],
      "execution_count": null,
      "outputs": [
        {
          "output_type": "execute_result",
          "data": {
            "text/html": [
              "<div>\n",
              "<style scoped>\n",
              "    .dataframe tbody tr th:only-of-type {\n",
              "        vertical-align: middle;\n",
              "    }\n",
              "\n",
              "    .dataframe tbody tr th {\n",
              "        vertical-align: top;\n",
              "    }\n",
              "\n",
              "    .dataframe thead th {\n",
              "        text-align: right;\n",
              "    }\n",
              "</style>\n",
              "<table border=\"1\" class=\"dataframe\">\n",
              "  <thead>\n",
              "    <tr style=\"text-align: right;\">\n",
              "      <th></th>\n",
              "      <th>Audience</th>\n",
              "    </tr>\n",
              "  </thead>\n",
              "  <tbody>\n",
              "    <tr>\n",
              "      <th>count</th>\n",
              "      <td>95.000000</td>\n",
              "    </tr>\n",
              "    <tr>\n",
              "      <th>mean</th>\n",
              "      <td>5128.621053</td>\n",
              "    </tr>\n",
              "    <tr>\n",
              "      <th>std</th>\n",
              "      <td>993.256970</td>\n",
              "    </tr>\n",
              "    <tr>\n",
              "      <th>min</th>\n",
              "      <td>178.000000</td>\n",
              "    </tr>\n",
              "    <tr>\n",
              "      <th>25%</th>\n",
              "      <td>4677.000000</td>\n",
              "    </tr>\n",
              "    <tr>\n",
              "      <th>50%</th>\n",
              "      <td>5143.000000</td>\n",
              "    </tr>\n",
              "    <tr>\n",
              "      <th>75%</th>\n",
              "      <td>5650.500000</td>\n",
              "    </tr>\n",
              "    <tr>\n",
              "      <th>max</th>\n",
              "      <td>7444.000000</td>\n",
              "    </tr>\n",
              "  </tbody>\n",
              "</table>\n",
              "</div>"
            ],
            "text/plain": [
              "          Audience\n",
              "count    95.000000\n",
              "mean   5128.621053\n",
              "std     993.256970\n",
              "min     178.000000\n",
              "25%    4677.000000\n",
              "50%    5143.000000\n",
              "75%    5650.500000\n",
              "max    7444.000000"
            ]
          },
          "metadata": {
            "tags": []
          },
          "execution_count": 730
        }
      ]
    },
    {
      "cell_type": "markdown",
      "metadata": {
        "id": "YQOha26-jWrm"
      },
      "source": [
        "So, we have data that spans over some 1050 days. The maximum Bitcoin hit during this period was some 19K USD, and it also fell in the seven hundred range. Boy, Bitcoin has really seen it all.\n",
        "\n",
        "Let's plot it to get a better look."
      ]
    },
    {
      "cell_type": "markdown",
      "metadata": {
        "id": "81lnIBmjjWrm"
      },
      "source": [
        "**2.1. Plotting the Time-series**"
      ]
    },
    {
      "cell_type": "code",
      "metadata": {
        "trusted": true,
        "colab": {
          "base_uri": "https://localhost:8080/",
          "height": 463
        },
        "id": "aqfpC3EejWrm",
        "outputId": "0a064b08-2ebc-4757-e714-d947cb198043"
      },
      "source": [
        "from pandas.plotting import register_matplotlib_converters\n",
        "register_matplotlib_converters()\n",
        "\n",
        "plt.figure(figsize=(8, 6))\n",
        "plt.plot(df_close, color='g')\n",
        "plt.title('Audience', weight='bold', fontsize=16)\n",
        "plt.xlabel('Time', weight='bold', fontsize=14)\n",
        "plt.ylabel('Audience', weight='bold', fontsize=14)\n",
        "plt.xticks(weight='bold', fontsize=12, rotation=45)\n",
        "plt.yticks(weight='bold', fontsize=12)\n",
        "plt.grid(color = 'y', linewidth = 0.5)"
      ],
      "execution_count": null,
      "outputs": [
        {
          "output_type": "display_data",
          "data": {
            "image/png": "[encoded data removed]",
            "text/plain": [
              "<Figure size 576x432 with 1 Axes>"
            ]
          },
          "metadata": {
            "tags": [],
            "needs_background": "light"
          }
        }
      ]
    },
    {
      "cell_type": "markdown",
      "metadata": {
        "id": "IgPDQ4fwjWrn"
      },
      "source": [
        "**3. Finding Regressor Inputs**\n",
        "\n",
        "There are many time-series forcasting techinques. First, there are the conventional statistical techniques like ARIMA, and exponential smoothing. Then there are other traditional approaches like Regression. Neural Networks have been popular in forecasting problems because of their ability to make predictions on non-linear complex data. Conventional statistical techniques don't work well with highly non-linear data. Multi-dimensional linear Regression has shown good results too on complex non-linear data (don't let the \"linear\" in it confuse you, it refers to the linear combination of input variables, the input variables themselves however can be expressed as higher degree polynomaials in the function that we are trying to model)\n",
        "\n",
        "But we will do our predciting using a Neural Network. There are two basic paths to implement a model.\n",
        "\n",
        "Some implement by considering the historical values of the very series they are trying to predict as the input regressors (variables). This approach assumes that the future values can be expressed as a fuction of the past values. The two things to determine are - which past values to use (how far back into the past we need to look), and the parameters of the function itself\n",
        "\n",
        "Many times, we also include input variables that are of very different nature than the time-series under observation. For example, in Electrical load forecating the weather time series (temperature) is used as one of the input variables. It makes sense since in most regions of our planet, temperature does affect the electrical power consumption. A drop in the temperate regions would have people using more of their heaters, and in sub-tropical or tropical regions, a rise in temperatue typically drives the air-conditioning load.\n",
        "\n",
        "Okay. So, first see how far into the past we need to look."
      ]
    },
    {
      "cell_type": "markdown",
      "metadata": {
        "id": "po7rBWCSjWro"
      },
      "source": [
        "**3.1. Autocorrelation plot**"
      ]
    },
    {
      "cell_type": "code",
      "metadata": {
        "trusted": true,
        "id": "Fb2vXmG5jWro",
        "colab": {
          "base_uri": "https://localhost:8080/",
          "height": 367
        },
        "outputId": "f69b4bdf-1db2-4258-930d-8f6b2802544e"
      },
      "source": [
        "from statsmodels.tsa import stattools\n",
        "\n",
        "acf_djia, confint_djia, qstat_djia, pvalues_djia = stattools.acf(df_close,\n",
        "                                                             unbiased=True,\n",
        "                                                             nlags=50,\n",
        "                                                             qstat=True,\n",
        "                                                             fft=True,\n",
        "                                                             alpha = 0.05)\n",
        "\n",
        "plt.figure(figsize=(7, 5))\n",
        "plt.plot(pd.Series(acf_djia), color='r', linewidth=2)\n",
        "plt.title('Autocorrelation of Audience', weight='bold', fontsize=16)\n",
        "plt.xlabel('Lag', weight='bold', fontsize=14)\n",
        "plt.ylabel('Value', weight='bold', fontsize=14)\n",
        "plt.xticks(weight='bold', fontsize=12, rotation=45)\n",
        "plt.yticks(weight='bold', fontsize=12)\n",
        "plt.grid(color = 'y', linewidth = 0.5)"
      ],
      "execution_count": null,
      "outputs": [
        {
          "output_type": "display_data",
          "data": {
            "image/png": "[encoded data removed]",
            "text/plain": [
              "<Figure size 504x360 with 1 Axes>"
            ]
          },
          "metadata": {
            "tags": [],
            "needs_background": "light"
          }
        }
      ]
    },
    {
      "cell_type": "markdown",
      "metadata": {
        "id": "TdFfGKJyjWro"
      },
      "source": [
        "To see which past variables can be used as input in our model, we check the auto-correlation of the time-series. Most of you must be familiar with correlation. It's a way to measure the strength of association between any two variables. As the correlation value approaches 1, it indicates high postive association. Correlation near 0 indicates almost no association at all, and a values near -1 would indicate strong negative correlation.\n",
        "\n",
        "In autocorrelation, we take the time-series value at current instant as one variable and one of the values from a time-instant in the past as the other variable, and find the correlation between them.\n",
        "\n",
        "Here, I have used 'stattools.acf' (acf for autocorrelation fucntion) to plot the autocorrelation with 50 past time-instants (lags). It's from the 'statsmodels' library. It's a great tool for doing a wide range of statistical analysis. Don't worry if you don't get this particular fuction in the first look. All you need to know is that is this function returns four outputs, out of which the first one which I have assigned the name 'acf_djia' is the list containing autocorrelation values of the number of lags ('nlags') specified.\n",
        "\n",
        "Choosing a lot of input attributes, specially if they don't have a high enough correlation with the target attribute, could actually harm us. I will select all the lags (past values) that have at least a correlation of 0.9 with the present value. From the plot we can see that number is 15."
      ]
    },
    {
      "cell_type": "markdown",
      "metadata": {
        "id": "7eaLNOHJjWrq"
      },
      "source": [
        "TLDR : What this means is that we will use the closing price of past 15 days to predict the closing price of any particular day. \n",
        "\n",
        "So, if you have the closing prices of any particular stock up until today, you can use this model to predict the closing price tomorrow.\n",
        "\n",
        "Well, you only need today's closing price and the closing price of past fourteen days to predict tomorrow's closing price.\n",
        "\n",
        "We still do need all the hsitorical data that we have to train, and test out model."
      ]
    },
    {
      "cell_type": "markdown",
      "metadata": {
        "id": "-QN3AO24jWrq"
      },
      "source": [
        "**3.2. Creation of dataset for training**\n",
        "\n",
        "Right now we only have one column - the actual closing price of Bitcoin (apart from the datetime index of course). To train our neural network, we have decided to use the past 15 values as inputs with the value at any corresponding time instant. This means we will have now an additional 15 columns where each row will have the closing price at any day and the corresponding prices of the past fifteen days.\n",
        "\n",
        "I have created a function to create those columns. "
      ]
    },
    {
      "cell_type": "code",
      "metadata": {
        "trusted": true,
        "id": "acTDy38bjWrr"
      },
      "source": [
        "def create_regressor_attributes(df, attribute, list_of_prev_t_instants) :\n",
        "    \n",
        "    \"\"\"\n",
        "    Ensure that the index is of datetime type\n",
        "    Creates features with previous time instant values\n",
        "    \"\"\"\n",
        "        \n",
        "    list_of_prev_t_instants.sort()\n",
        "    start = list_of_prev_t_instants[-1] \n",
        "    end = len(df)\n",
        "    df['datetime'] = df.index\n",
        "    df.reset_index(drop=True)\n",
        "\n",
        "    df_copy = df[start:end]\n",
        "    df_copy.reset_index(inplace=True, drop=True)\n",
        "\n",
        "    for attribute in attribute :\n",
        "            foobar = pd.DataFrame()\n",
        "\n",
        "            for prev_t in list_of_prev_t_instants :\n",
        "                new_col = pd.DataFrame(df[attribute].iloc[(start - prev_t) : (end - prev_t)])\n",
        "                new_col.reset_index(drop=True, inplace=True)\n",
        "                new_col.rename(columns={attribute : '{}_(t-{})'.format(attribute, prev_t)}, inplace=True)\n",
        "                foobar = pd.concat([foobar, new_col], sort=False, axis=1)\n",
        "\n",
        "            df_copy = pd.concat([df_copy, foobar], sort=False, axis=1)\n",
        "            \n",
        "    df_copy.set_index(['datetime'], drop=True, inplace=True)\n",
        "    return df_copy"
      ],
      "execution_count": null,
      "outputs": []
    },
    {
      "cell_type": "code",
      "metadata": {
        "trusted": true,
        "colab": {
          "base_uri": "https://localhost:8080/"
        },
        "id": "JKxKIxqAjWrr",
        "outputId": "9c4a765d-7707-4622-a658-ad66d1485608"
      },
      "source": [
        "list_of_attributes = ['Audience']\n",
        "\n",
        "list_of_prev_t_instants = []\n",
        "for i in range(1,16):\n",
        "    list_of_prev_t_instants.append(i)\n",
        "\n",
        "list_of_prev_t_instants"
      ],
      "execution_count": null,
      "outputs": [
        {
          "output_type": "execute_result",
          "data": {
            "text/plain": [
              "[1, 2, 3, 4, 5, 6, 7, 8, 9, 10, 11, 12, 13, 14, 15]"
            ]
          },
          "metadata": {
            "tags": []
          },
          "execution_count": 734
        }
      ]
    },
    {
      "cell_type": "markdown",
      "metadata": {
        "id": "h9rVWI4QjWrs"
      },
      "source": [
        "Here, we only have one time-series that is the closing price everyday. Using the function that I've defined, we can create regressor attributes for muliple columns in a single dataframe. For example, say we want to model current electrical load using not only past load values but also past temperature values.\n",
        "\n",
        "Also, we can specify which past values to use exaclty in the form of a list. It's heplful in cases where the past regressors can be different than simply the previous fifteen values. In our case it is so because the auto-correlation line was an almost straight line with a negative line."
      ]
    },
    {
      "cell_type": "code",
      "metadata": {
        "trusted": true,
        "colab": {
          "base_uri": "https://localhost:8080/",
          "height": 346
        },
        "id": "CzxKIBZ7jWrs",
        "outputId": "278884f8-1253-4e26-d1a7-0bf1ad0cbf05"
      },
      "source": [
        "df_new = create_regressor_attributes(df_close, list_of_attributes, list_of_prev_t_instants)\n",
        "df_new.head()"
      ],
      "execution_count": null,
      "outputs": [
        {
          "output_type": "execute_result",
          "data": {
            "text/html": [
              "<div>\n",
              "<style scoped>\n",
              "    .dataframe tbody tr th:only-of-type {\n",
              "        vertical-align: middle;\n",
              "    }\n",
              "\n",
              "    .dataframe tbody tr th {\n",
              "        vertical-align: top;\n",
              "    }\n",
              "\n",
              "    .dataframe thead th {\n",
              "        text-align: right;\n",
              "    }\n",
              "</style>\n",
              "<table border=\"1\" class=\"dataframe\">\n",
              "  <thead>\n",
              "    <tr style=\"text-align: right;\">\n",
              "      <th></th>\n",
              "      <th>Audience</th>\n",
              "      <th>Audience_(t-1)</th>\n",
              "      <th>Audience_(t-2)</th>\n",
              "      <th>Audience_(t-3)</th>\n",
              "      <th>Audience_(t-4)</th>\n",
              "      <th>Audience_(t-5)</th>\n",
              "      <th>Audience_(t-6)</th>\n",
              "      <th>Audience_(t-7)</th>\n",
              "      <th>Audience_(t-8)</th>\n",
              "      <th>Audience_(t-9)</th>\n",
              "      <th>Audience_(t-10)</th>\n",
              "      <th>Audience_(t-11)</th>\n",
              "      <th>Audience_(t-12)</th>\n",
              "      <th>Audience_(t-13)</th>\n",
              "      <th>Audience_(t-14)</th>\n",
              "      <th>Audience_(t-15)</th>\n",
              "    </tr>\n",
              "    <tr>\n",
              "      <th>datetime</th>\n",
              "      <th></th>\n",
              "      <th></th>\n",
              "      <th></th>\n",
              "      <th></th>\n",
              "      <th></th>\n",
              "      <th></th>\n",
              "      <th></th>\n",
              "      <th></th>\n",
              "      <th></th>\n",
              "      <th></th>\n",
              "      <th></th>\n",
              "      <th></th>\n",
              "      <th></th>\n",
              "      <th></th>\n",
              "      <th></th>\n",
              "      <th></th>\n",
              "    </tr>\n",
              "  </thead>\n",
              "  <tbody>\n",
              "    <tr>\n",
              "      <th>2014-08-03</th>\n",
              "      <td>5709</td>\n",
              "      <td>863</td>\n",
              "      <td>4996</td>\n",
              "      <td>5070</td>\n",
              "      <td>5377</td>\n",
              "      <td>5977</td>\n",
              "      <td>6406</td>\n",
              "      <td>5959</td>\n",
              "      <td>5917</td>\n",
              "      <td>5338</td>\n",
              "      <td>4511</td>\n",
              "      <td>4268</td>\n",
              "      <td>4575</td>\n",
              "      <td>3971</td>\n",
              "      <td>4892</td>\n",
              "      <td>5961</td>\n",
              "    </tr>\n",
              "    <tr>\n",
              "      <th>2014-08-04</th>\n",
              "      <td>4531</td>\n",
              "      <td>5709</td>\n",
              "      <td>863</td>\n",
              "      <td>4996</td>\n",
              "      <td>5070</td>\n",
              "      <td>5377</td>\n",
              "      <td>5977</td>\n",
              "      <td>6406</td>\n",
              "      <td>5959</td>\n",
              "      <td>5917</td>\n",
              "      <td>5338</td>\n",
              "      <td>4511</td>\n",
              "      <td>4268</td>\n",
              "      <td>4575</td>\n",
              "      <td>3971</td>\n",
              "      <td>4892</td>\n",
              "    </tr>\n",
              "    <tr>\n",
              "      <th>2014-08-05</th>\n",
              "      <td>4659</td>\n",
              "      <td>4531</td>\n",
              "      <td>5709</td>\n",
              "      <td>863</td>\n",
              "      <td>4996</td>\n",
              "      <td>5070</td>\n",
              "      <td>5377</td>\n",
              "      <td>5977</td>\n",
              "      <td>6406</td>\n",
              "      <td>5959</td>\n",
              "      <td>5917</td>\n",
              "      <td>5338</td>\n",
              "      <td>4511</td>\n",
              "      <td>4268</td>\n",
              "      <td>4575</td>\n",
              "      <td>3971</td>\n",
              "    </tr>\n",
              "    <tr>\n",
              "      <th>2014-08-06</th>\n",
              "      <td>5016</td>\n",
              "      <td>4659</td>\n",
              "      <td>4531</td>\n",
              "      <td>5709</td>\n",
              "      <td>863</td>\n",
              "      <td>4996</td>\n",
              "      <td>5070</td>\n",
              "      <td>5377</td>\n",
              "      <td>5977</td>\n",
              "      <td>6406</td>\n",
              "      <td>5959</td>\n",
              "      <td>5917</td>\n",
              "      <td>5338</td>\n",
              "      <td>4511</td>\n",
              "      <td>4268</td>\n",
              "      <td>4575</td>\n",
              "    </tr>\n",
              "    <tr>\n",
              "      <th>2014-08-07</th>\n",
              "      <td>5079</td>\n",
              "      <td>5016</td>\n",
              "      <td>4659</td>\n",
              "      <td>4531</td>\n",
              "      <td>5709</td>\n",
              "      <td>863</td>\n",
              "      <td>4996</td>\n",
              "      <td>5070</td>\n",
              "      <td>5377</td>\n",
              "      <td>5977</td>\n",
              "      <td>6406</td>\n",
              "      <td>5959</td>\n",
              "      <td>5917</td>\n",
              "      <td>5338</td>\n",
              "      <td>4511</td>\n",
              "      <td>4268</td>\n",
              "    </tr>\n",
              "  </tbody>\n",
              "</table>\n",
              "</div>"
            ],
            "text/plain": [
              "            Audience  Audience_(t-1)  ...  Audience_(t-14)  Audience_(t-15)\n",
              "datetime                              ...                                  \n",
              "2014-08-03      5709             863  ...             4892             5961\n",
              "2014-08-04      4531            5709  ...             3971             4892\n",
              "2014-08-05      4659            4531  ...             4575             3971\n",
              "2014-08-06      5016            4659  ...             4268             4575\n",
              "2014-08-07      5079            5016  ...             4511             4268\n",
              "\n",
              "[5 rows x 16 columns]"
            ]
          },
          "metadata": {
            "tags": []
          },
          "execution_count": 735
        }
      ]
    },
    {
      "cell_type": "code",
      "metadata": {
        "colab": {
          "base_uri": "https://localhost:8080/"
        },
        "id": "PkkxbR9uhZNm",
        "outputId": "b4a4ef35-7ef3-4bab-8342-19c67754a0a3"
      },
      "source": [
        "df_new.info()"
      ],
      "execution_count": null,
      "outputs": [
        {
          "output_type": "stream",
          "text": [
            "<class 'pandas.core.frame.DataFrame'>\n",
            "DatetimeIndex: 80 entries, 2014-08-03 to 2014-10-21\n",
            "Data columns (total 16 columns):\n",
            " #   Column           Non-Null Count  Dtype\n",
            "---  ------           --------------  -----\n",
            " 0   Audience         80 non-null     int64\n",
            " 1   Audience_(t-1)   80 non-null     int64\n",
            " 2   Audience_(t-2)   80 non-null     int64\n",
            " 3   Audience_(t-3)   80 non-null     int64\n",
            " 4   Audience_(t-4)   80 non-null     int64\n",
            " 5   Audience_(t-5)   80 non-null     int64\n",
            " 6   Audience_(t-6)   80 non-null     int64\n",
            " 7   Audience_(t-7)   80 non-null     int64\n",
            " 8   Audience_(t-8)   80 non-null     int64\n",
            " 9   Audience_(t-9)   80 non-null     int64\n",
            " 10  Audience_(t-10)  80 non-null     int64\n",
            " 11  Audience_(t-11)  80 non-null     int64\n",
            " 12  Audience_(t-12)  80 non-null     int64\n",
            " 13  Audience_(t-13)  80 non-null     int64\n",
            " 14  Audience_(t-14)  80 non-null     int64\n",
            " 15  Audience_(t-15)  80 non-null     int64\n",
            "dtypes: int64(16)\n",
            "memory usage: 10.6 KB\n"
          ],
          "name": "stdout"
        }
      ]
    },
    {
      "cell_type": "code",
      "metadata": {
        "trusted": true,
        "colab": {
          "base_uri": "https://localhost:8080/"
        },
        "id": "ZLPj8y89jWrt",
        "outputId": "cdf0505d-1f3a-4ae4-e70a-8eed3b6be757"
      },
      "source": [
        "df_new.shape"
      ],
      "execution_count": null,
      "outputs": [
        {
          "output_type": "execute_result",
          "data": {
            "text/plain": [
              "(80, 16)"
            ]
          },
          "metadata": {
            "tags": []
          },
          "execution_count": 736
        }
      ]
    },
    {
      "cell_type": "markdown",
      "metadata": {
        "id": "9nNKHyqgjWrt"
      },
      "source": [
        "It's a very messed up looking function, I know. \n",
        "\n",
        "As you can see - this new dataset has the original time-series ('Close') and other 15 columns that are the past values taken as regressor inputs. \n",
        "\n",
        "Also, it starts from the 16th Jan, 2017, but the original time-series started from 1st Jan, 2017. I have done this to avoid NaN values that would appear in the new added columns for obvious reasons.\n",
        "\n",
        "The best way I can explain this function is to imagine our original time-series as a cake that had 1049 slices. I can take certain number of slices from this cake in the same order and make a new cake from it using some magic, so that my original cake with its original size will always remain there.\n",
        "\n",
        "First I took slices from the 15th slice to the last slice from my original cake and added it to my new platter ('df_copy'). This new cake has 1034 slices (made up from 15th to the last slice of my original cake).\n",
        "\n",
        "I again take 1034 slices from my new cake and add it to the platter (append new column to the dataframe 'df_copy), but this one consists of 14th slice to the second last slice of my original cake.\n",
        "\n",
        "Then I take 13th slice to the third last slice, and so on...\n",
        "\n",
        "So, df_copy contains 16 new cakes, all having 1034 slices, but with all the desired cakes (columns)"
      ]
    },
    {
      "cell_type": "markdown",
      "metadata": {
        "id": "IeYJF2ycjWru"
      },
      "source": [
        "Okay, phew..\n",
        "\n",
        "We have out dataset. Let's now build our neural network."
      ]
    },
    {
      "cell_type": "markdown",
      "metadata": {
        "id": "0ozVSOVejWru"
      },
      "source": [
        "**4. Making the neural Network**"
      ]
    },
    {
      "cell_type": "markdown",
      "metadata": {
        "id": "_QGTehQrjWrv"
      },
      "source": [
        "I will be training a simple Multi-layer Perceptron that has an input layer with 15 nodes (accounting for each of the 15 past regressor inputs).\n",
        "\n",
        "It will have 2 hidden layers (yeah, 2 and that's what makes it \"DEEP\", nothing more, nothing less). I'll consider 60 nodes in each.\n",
        "\n",
        "Why 60? I tried a lot of trials and combinations, and I was satisfied with the results of this one. \n",
        "\n",
        "And hyperparameter tuning (adjusting the model parameters to find the optimal combination) won't be a part of this exercise. \n"
      ]
    },
    {
      "cell_type": "code",
      "metadata": {
        "trusted": true,
        "id": "Udno9BtKjWrw"
      },
      "source": [
        "from tensorflow.keras.layers import Input, Dense, Dropout\n",
        "from tensorflow.keras.optimizers import SGD\n",
        "from tensorflow.keras.models import Model\n",
        "from tensorflow.keras.models import load_model\n",
        "from tensorflow.keras.callbacks import ModelCheckpoint"
      ],
      "execution_count": null,
      "outputs": []
    },
    {
      "cell_type": "code",
      "metadata": {
        "trusted": true,
        "id": "vDw5OOQAjWrw"
      },
      "source": [
        "input_layer = Input(shape=(15), dtype='float32')\n",
        "dense1 = Dense(60, activation='linear')(input_layer)\n",
        "dense2 = Dense(60, activation='linear')(dense1)\n",
        "dense3 = Dense(60, activation='linear')(dense2)\n",
        "dropout_layer = Dropout(0.2)(dense3)\n",
        "output_layer = Dense(1, activation='softplus')(dropout_layer)"
      ],
      "execution_count": null,
      "outputs": []
    },
    {
      "cell_type": "code",
      "metadata": {
        "trusted": true,
        "colab": {
          "base_uri": "https://localhost:8080/"
        },
        "id": "LOSSMM1ujWrw",
        "outputId": "e0f3ad1a-6dab-4d87-f947-4ca04036641e"
      },
      "source": [
        "model = Model(inputs=input_layer, outputs=output_layer)\n",
        "model.compile(loss='mean_squared_error', optimizer='rmsprop')\n",
        "model.summary()"
      ],
      "execution_count": null,
      "outputs": [
        {
          "output_type": "stream",
          "text": [
            "Model: \"model_44\"\n",
            "_________________________________________________________________\n",
            "Layer (type)                 Output Shape              Param #   \n",
            "=================================================================\n",
            "input_43 (InputLayer)        [(None, 15)]              0         \n",
            "_________________________________________________________________\n",
            "dense_160 (Dense)            (None, 60)                960       \n",
            "_________________________________________________________________\n",
            "dense_161 (Dense)            (None, 60)                3660      \n",
            "_________________________________________________________________\n",
            "dense_162 (Dense)            (None, 60)                3660      \n",
            "_________________________________________________________________\n",
            "dropout_39 (Dropout)         (None, 60)                0         \n",
            "_________________________________________________________________\n",
            "dense_163 (Dense)            (None, 1)                 61        \n",
            "=================================================================\n",
            "Total params: 8,341\n",
            "Trainable params: 8,341\n",
            "Non-trainable params: 0\n",
            "_________________________________________________________________\n"
          ],
          "name": "stdout"
        }
      ]
    },
    {
      "cell_type": "code",
      "metadata": {
        "trusted": true,
        "colab": {
          "base_uri": "https://localhost:8080/",
          "height": 564
        },
        "id": "qn5SLGx9jWrx",
        "outputId": "a519fea4-6085-464d-9661-d73af696fe66"
      },
      "source": [
        "from tensorflow.keras.utils import plot_model\n",
        "plot_model(model)"
      ],
      "execution_count": null,
      "outputs": [
        {
          "output_type": "execute_result",
          "data": {
            "image/png": "[encoded data removed]",
            "text/plain": [
              "<IPython.core.display.Image object>"
            ]
          },
          "metadata": {
            "tags": []
          },
          "execution_count": 1008
        }
      ]
    },
    {
      "cell_type": "markdown",
      "metadata": {
        "id": "dg2NrnicjWrx"
      },
      "source": [
        "Those familiar with Neural networks and Keras can skip this part. \n",
        "\n",
        "Those very new to Machine Learning can have a glance to absorb enough to move forward. \n",
        "\n",
        "An input layer only has nodes. It's only job is take in the data and pass it on the hidden layer.\n",
        "\n",
        "A dense layer has the links (edges) connected to it, with weights and everything. It also has an activation function.\n",
        "\n",
        "The data from each input node gets multiplied with the weights of the links via which those input nodes are connected to the first hidden layer. Each node of the hidden layer then combines all the inputs to it (one from each input node) and passes through an activation fuction.\n",
        "\n",
        "Similar process repeats for the second hidden layer.\n",
        "\n",
        "A dropout layer is added before the output layer. It drops a certain percentage (20% in our case) of the links randomly, that are connected to the output node. It's a good practice and generally helps in curbing overfitting.\n",
        "\n",
        "We simply define each layer and the preceding layer it's connected to, and then package them all together using the function 'Model'\n",
        "\n",
        "The 15 new columns dataframe (df_new) will be passed through this network, one row at a time. The network will spit out an answer which will be compared with the value in the first column. This first prediction will be based on weights that mare set randomly. The error in the prediction will be used to change the weights in such a way that the prediction is better.\n",
        "\n",
        "This will happen for all the 1034 rows. We can adjust the weights after passing through multiple samples (rows) in what we call a \"batch\". When all the rows have passed in this way, we say one \"epoch\" is over. We go through many epochs.\n",
        "\n",
        "But how many epochs do we have to go through, you ask? You already might have guessed. When we get the feel that out neural network model has captured the patterns in the data and is in a position to make predictions. How do we ensure that?\n",
        "\n",
        "What we do is hold out a few samples of data as a validation set. We don't use them for training (i.e for updating the weights). We only run the validation set after every epoch, and check the error. We also keep a track of the training error but it's not as important as validation error since the training error is what adjusts the weights. So, in a sense the training data is what the network soaks in. The validation data is something it doesn't soak in. As we keep checking the errors, only when the validation error has come down to near the training error, we stop further training.\n",
        "\n",
        "There are many ways to calcualte error. Here, we have used \"mean_squared_error\", and also used the \"adam\" optimizer algorith that is responsible for updating the weights (see \"model.compile\" part).\n",
        "\n",
        "We can also hold out an additional test set just to see how out new baby performs on more unseen data."
      ]
    },
    {
      "cell_type": "markdown",
      "metadata": {
        "id": "pYcOYw9QjWry"
      },
      "source": [
        "**5. Spliting the data**"
      ]
    },
    {
      "cell_type": "markdown",
      "metadata": {
        "id": "ht0ZSD3hjWry"
      },
      "source": [
        "We will separate out 5% of the samples (rows) in a random fashion for later testing purposes. \n",
        "\n",
        "The remaining 95 % is again split randomly. Some 5% of it is used as validation set and the remaining as training set.\n",
        "\n",
        "All this splitting happens row wise.\n",
        "\n",
        "Note that we also need to split it column wise as well. The first column are our actual values (target). These aren't fed to the neural network. The remaining 15 columns (input regressors) are fed to it.\n",
        "\n",
        "So, the slicing of data happens both row wise and column wise. The sliced dataframes having only the regressor input columns typically have a \"X\" in the names we assign them, and the sliced dataframes (or series) with only the actual values (also called target values, as in being \"targets\" for the neural netwroks to accurately predict while training) have a \"y\" in the names we assign them.\n",
        "\n",
        "Note that since this is time-series data, splitting the dataset randomly isn't a sensible thought. So, for time-series data, we will simply split in an orderly fashion."
      ]
    },
    {
      "cell_type": "code",
      "metadata": {
        "trusted": true,
        "colab": {
          "base_uri": "https://localhost:8080/"
        },
        "id": "J2MV6aSpjWry",
        "outputId": "9f0fa125-ee95-473e-9cf9-1f18d254c31f"
      },
      "source": [
        "test_set_size = 0.06\n",
        "valid_set_size= 0.06\n",
        "\n",
        "df_copy = df_new.reset_index(drop=True)\n",
        "\n",
        "df_test = df_copy.iloc[ int(np.floor(len(df_copy)*(1-test_set_size))) : ]\n",
        "df_train_plus_valid = df_copy.iloc[ : int(np.floor(len(df_copy)*(1-test_set_size))) ]\n",
        "\n",
        "df_train = df_train_plus_valid.iloc[ : int(np.floor(len(df_train_plus_valid)*(1-valid_set_size))) ]\n",
        "df_valid = df_train_plus_valid.iloc[ int(np.floor(len(df_train_plus_valid)*(1-valid_set_size))) : ]\n",
        "\n",
        "\n",
        "X_train, y_train = df_train.iloc[:, 1:], df_train.iloc[:, 0]\n",
        "X_valid, y_valid = df_valid.iloc[:, 1:], df_valid.iloc[:, 0]\n",
        "X_test, y_test = df_test.iloc[:, 1:], df_test.iloc[:, 0]\n",
        "\n",
        "print('Shape of training inputs, training target:', X_train.shape, y_train.shape)\n",
        "print('Shape of validation inputs, validation target:', X_valid.shape, y_valid.shape)\n",
        "print('Shape of test inputs, test target:', X_test.shape, y_test.shape)"
      ],
      "execution_count": null,
      "outputs": [
        {
          "output_type": "stream",
          "text": [
            "Shape of training inputs, training target: (70, 15) (70,)\n",
            "Shape of validation inputs, validation target: (5, 15) (5,)\n",
            "Shape of test inputs, test target: (5, 15) (5,)\n"
          ],
          "name": "stdout"
        }
      ]
    },
    {
      "cell_type": "code",
      "metadata": {
        "colab": {
          "base_uri": "https://localhost:8080/",
          "height": 232
        },
        "id": "pQVQjAVtqkwu",
        "outputId": "50abe511-ad1d-4efe-c0e0-454d15cc8f18"
      },
      "source": [
        "X_train.head()"
      ],
      "execution_count": null,
      "outputs": [
        {
          "output_type": "execute_result",
          "data": {
            "text/html": [
              "<div>\n",
              "<style scoped>\n",
              "    .dataframe tbody tr th:only-of-type {\n",
              "        vertical-align: middle;\n",
              "    }\n",
              "\n",
              "    .dataframe tbody tr th {\n",
              "        vertical-align: top;\n",
              "    }\n",
              "\n",
              "    .dataframe thead th {\n",
              "        text-align: right;\n",
              "    }\n",
              "</style>\n",
              "<table border=\"1\" class=\"dataframe\">\n",
              "  <thead>\n",
              "    <tr style=\"text-align: right;\">\n",
              "      <th></th>\n",
              "      <th>Audience_(t-1)</th>\n",
              "      <th>Audience_(t-2)</th>\n",
              "      <th>Audience_(t-3)</th>\n",
              "      <th>Audience_(t-4)</th>\n",
              "      <th>Audience_(t-5)</th>\n",
              "      <th>Audience_(t-6)</th>\n",
              "      <th>Audience_(t-7)</th>\n",
              "      <th>Audience_(t-8)</th>\n",
              "      <th>Audience_(t-9)</th>\n",
              "      <th>Audience_(t-10)</th>\n",
              "      <th>Audience_(t-11)</th>\n",
              "      <th>Audience_(t-12)</th>\n",
              "      <th>Audience_(t-13)</th>\n",
              "      <th>Audience_(t-14)</th>\n",
              "      <th>Audience_(t-15)</th>\n",
              "    </tr>\n",
              "  </thead>\n",
              "  <tbody>\n",
              "    <tr>\n",
              "      <th>0</th>\n",
              "      <td>863</td>\n",
              "      <td>4996</td>\n",
              "      <td>5070</td>\n",
              "      <td>5377</td>\n",
              "      <td>5977</td>\n",
              "      <td>6406</td>\n",
              "      <td>5959</td>\n",
              "      <td>5917</td>\n",
              "      <td>5338</td>\n",
              "      <td>4511</td>\n",
              "      <td>4268</td>\n",
              "      <td>4575</td>\n",
              "      <td>3971</td>\n",
              "      <td>4892</td>\n",
              "      <td>5961</td>\n",
              "    </tr>\n",
              "    <tr>\n",
              "      <th>1</th>\n",
              "      <td>5709</td>\n",
              "      <td>863</td>\n",
              "      <td>4996</td>\n",
              "      <td>5070</td>\n",
              "      <td>5377</td>\n",
              "      <td>5977</td>\n",
              "      <td>6406</td>\n",
              "      <td>5959</td>\n",
              "      <td>5917</td>\n",
              "      <td>5338</td>\n",
              "      <td>4511</td>\n",
              "      <td>4268</td>\n",
              "      <td>4575</td>\n",
              "      <td>3971</td>\n",
              "      <td>4892</td>\n",
              "    </tr>\n",
              "    <tr>\n",
              "      <th>2</th>\n",
              "      <td>4531</td>\n",
              "      <td>5709</td>\n",
              "      <td>863</td>\n",
              "      <td>4996</td>\n",
              "      <td>5070</td>\n",
              "      <td>5377</td>\n",
              "      <td>5977</td>\n",
              "      <td>6406</td>\n",
              "      <td>5959</td>\n",
              "      <td>5917</td>\n",
              "      <td>5338</td>\n",
              "      <td>4511</td>\n",
              "      <td>4268</td>\n",
              "      <td>4575</td>\n",
              "      <td>3971</td>\n",
              "    </tr>\n",
              "    <tr>\n",
              "      <th>3</th>\n",
              "      <td>4659</td>\n",
              "      <td>4531</td>\n",
              "      <td>5709</td>\n",
              "      <td>863</td>\n",
              "      <td>4996</td>\n",
              "      <td>5070</td>\n",
              "      <td>5377</td>\n",
              "      <td>5977</td>\n",
              "      <td>6406</td>\n",
              "      <td>5959</td>\n",
              "      <td>5917</td>\n",
              "      <td>5338</td>\n",
              "      <td>4511</td>\n",
              "      <td>4268</td>\n",
              "      <td>4575</td>\n",
              "    </tr>\n",
              "    <tr>\n",
              "      <th>4</th>\n",
              "      <td>5016</td>\n",
              "      <td>4659</td>\n",
              "      <td>4531</td>\n",
              "      <td>5709</td>\n",
              "      <td>863</td>\n",
              "      <td>4996</td>\n",
              "      <td>5070</td>\n",
              "      <td>5377</td>\n",
              "      <td>5977</td>\n",
              "      <td>6406</td>\n",
              "      <td>5959</td>\n",
              "      <td>5917</td>\n",
              "      <td>5338</td>\n",
              "      <td>4511</td>\n",
              "      <td>4268</td>\n",
              "    </tr>\n",
              "  </tbody>\n",
              "</table>\n",
              "</div>"
            ],
            "text/plain": [
              "   Audience_(t-1)  Audience_(t-2)  ...  Audience_(t-14)  Audience_(t-15)\n",
              "0             863            4996  ...             4892             5961\n",
              "1            5709             863  ...             3971             4892\n",
              "2            4531            5709  ...             4575             3971\n",
              "3            4659            4531  ...             4268             4575\n",
              "4            5016            4659  ...             4511             4268\n",
              "\n",
              "[5 rows x 15 columns]"
            ]
          },
          "metadata": {
            "tags": []
          },
          "execution_count": 1010
        }
      ]
    },
    {
      "cell_type": "code",
      "metadata": {
        "colab": {
          "base_uri": "https://localhost:8080/"
        },
        "id": "fiBlitggiq81",
        "outputId": "6aa1de54-bf11-4363-a898-b750b36b8513"
      },
      "source": [
        "X_train.info()\n",
        "X_valid.info()\n",
        "X_test.info()"
      ],
      "execution_count": null,
      "outputs": [
        {
          "output_type": "stream",
          "text": [
            "<class 'pandas.core.frame.DataFrame'>\n",
            "RangeIndex: 70 entries, 0 to 69\n",
            "Data columns (total 15 columns):\n",
            " #   Column           Non-Null Count  Dtype\n",
            "---  ------           --------------  -----\n",
            " 0   Audience_(t-1)   70 non-null     int64\n",
            " 1   Audience_(t-2)   70 non-null     int64\n",
            " 2   Audience_(t-3)   70 non-null     int64\n",
            " 3   Audience_(t-4)   70 non-null     int64\n",
            " 4   Audience_(t-5)   70 non-null     int64\n",
            " 5   Audience_(t-6)   70 non-null     int64\n",
            " 6   Audience_(t-7)   70 non-null     int64\n",
            " 7   Audience_(t-8)   70 non-null     int64\n",
            " 8   Audience_(t-9)   70 non-null     int64\n",
            " 9   Audience_(t-10)  70 non-null     int64\n",
            " 10  Audience_(t-11)  70 non-null     int64\n",
            " 11  Audience_(t-12)  70 non-null     int64\n",
            " 12  Audience_(t-13)  70 non-null     int64\n",
            " 13  Audience_(t-14)  70 non-null     int64\n",
            " 14  Audience_(t-15)  70 non-null     int64\n",
            "dtypes: int64(15)\n",
            "memory usage: 8.3 KB\n",
            "<class 'pandas.core.frame.DataFrame'>\n",
            "RangeIndex: 5 entries, 70 to 74\n",
            "Data columns (total 15 columns):\n",
            " #   Column           Non-Null Count  Dtype\n",
            "---  ------           --------------  -----\n",
            " 0   Audience_(t-1)   5 non-null      int64\n",
            " 1   Audience_(t-2)   5 non-null      int64\n",
            " 2   Audience_(t-3)   5 non-null      int64\n",
            " 3   Audience_(t-4)   5 non-null      int64\n",
            " 4   Audience_(t-5)   5 non-null      int64\n",
            " 5   Audience_(t-6)   5 non-null      int64\n",
            " 6   Audience_(t-7)   5 non-null      int64\n",
            " 7   Audience_(t-8)   5 non-null      int64\n",
            " 8   Audience_(t-9)   5 non-null      int64\n",
            " 9   Audience_(t-10)  5 non-null      int64\n",
            " 10  Audience_(t-11)  5 non-null      int64\n",
            " 11  Audience_(t-12)  5 non-null      int64\n",
            " 12  Audience_(t-13)  5 non-null      int64\n",
            " 13  Audience_(t-14)  5 non-null      int64\n",
            " 14  Audience_(t-15)  5 non-null      int64\n",
            "dtypes: int64(15)\n",
            "memory usage: 732.0 bytes\n",
            "<class 'pandas.core.frame.DataFrame'>\n",
            "RangeIndex: 5 entries, 75 to 79\n",
            "Data columns (total 15 columns):\n",
            " #   Column           Non-Null Count  Dtype\n",
            "---  ------           --------------  -----\n",
            " 0   Audience_(t-1)   5 non-null      int64\n",
            " 1   Audience_(t-2)   5 non-null      int64\n",
            " 2   Audience_(t-3)   5 non-null      int64\n",
            " 3   Audience_(t-4)   5 non-null      int64\n",
            " 4   Audience_(t-5)   5 non-null      int64\n",
            " 5   Audience_(t-6)   5 non-null      int64\n",
            " 6   Audience_(t-7)   5 non-null      int64\n",
            " 7   Audience_(t-8)   5 non-null      int64\n",
            " 8   Audience_(t-9)   5 non-null      int64\n",
            " 9   Audience_(t-10)  5 non-null      int64\n",
            " 10  Audience_(t-11)  5 non-null      int64\n",
            " 11  Audience_(t-12)  5 non-null      int64\n",
            " 12  Audience_(t-13)  5 non-null      int64\n",
            " 13  Audience_(t-14)  5 non-null      int64\n",
            " 14  Audience_(t-15)  5 non-null      int64\n",
            "dtypes: int64(15)\n",
            "memory usage: 732.0 bytes\n"
          ],
          "name": "stdout"
        }
      ]
    },
    {
      "cell_type": "markdown",
      "metadata": {
        "id": "WrKN9GuFjWrz"
      },
      "source": [
        "**6. Scaling the data**"
      ]
    },
    {
      "cell_type": "markdown",
      "metadata": {
        "id": "NWHGxYKujWrz"
      },
      "source": [
        "We will normalize our data in the range in the range (0.01, 0.99) before feeding it to the the neural network."
      ]
    },
    {
      "cell_type": "markdown",
      "metadata": {
        "id": "EzHSOuE5jWrz"
      },
      "source": [
        "Note that MinMaxScaler() function takes in dataframes or series (can also take in arrays), but it always returns n-dimensional arrays."
      ]
    },
    {
      "cell_type": "code",
      "metadata": {
        "trusted": true,
        "id": "ybFzIOIWjWr0"
      },
      "source": [
        "from sklearn.preprocessing import MinMaxScaler\n",
        "\n",
        "Target_scaler = MinMaxScaler(feature_range=(0.01, 0.99))\n",
        "Feature_scaler = MinMaxScaler(feature_range=(0.01, 0.99))\n",
        "\n",
        "X_train_scaled = Feature_scaler.fit_transform(np.array(X_train))\n",
        "X_valid_scaled = Feature_scaler.fit_transform(np.array(X_valid))\n",
        "X_test_scaled = Feature_scaler.fit_transform(np.array(X_test))\n",
        "\n",
        "y_train_scaled = Target_scaler.fit_transform(np.array(y_train).reshape(-1,1))\n",
        "y_valid_scaled = Target_scaler.fit_transform(np.array(y_valid).reshape(-1,1))\n",
        "y_test_scaled = Target_scaler.fit_transform(np.array(y_test).reshape(-1,1))"
      ],
      "execution_count": null,
      "outputs": []
    },
    {
      "cell_type": "code",
      "metadata": {
        "id": "pzwCOFFLm03j",
        "colab": {
          "base_uri": "https://localhost:8080/"
        },
        "outputId": "c508be85-0765-4379-d891-f9b496b56714"
      },
      "source": [
        "y_test"
      ],
      "execution_count": null,
      "outputs": [
        {
          "output_type": "execute_result",
          "data": {
            "text/plain": [
              "75    5160\n",
              "76    6137\n",
              "77    5401\n",
              "78    3478\n",
              "79     178\n",
              "Name: Audience, dtype: int64"
            ]
          },
          "metadata": {
            "tags": []
          },
          "execution_count": 1013
        }
      ]
    },
    {
      "cell_type": "markdown",
      "metadata": {
        "id": "jfEv4oZKjWr0"
      },
      "source": [
        "So, the data is ready. The neural network is ready. Let's go."
      ]
    },
    {
      "cell_type": "markdown",
      "metadata": {
        "id": "bwNU9O2ojWr0"
      },
      "source": [
        "**7. Training and Validation**"
      ]
    },
    {
      "cell_type": "code",
      "metadata": {
        "trusted": true,
        "colab": {
          "base_uri": "https://localhost:8080/"
        },
        "id": "B3nOBx__jWr0",
        "outputId": "0b70d309-e489-41f2-e5f2-93243f430b73"
      },
      "source": [
        "model.fit(x=X_train_scaled, y=y_train_scaled, batch_size=5, epochs=10, verbose=1, validation_data=(X_valid_scaled, y_valid_scaled), shuffle=True)"
      ],
      "execution_count": null,
      "outputs": [
        {
          "output_type": "stream",
          "text": [
            "Epoch 1/10\n",
            "14/14 [==============================] - 1s 18ms/step - loss: 0.0749 - val_loss: 0.1137\n",
            "Epoch 2/10\n",
            "14/14 [==============================] - 0s 6ms/step - loss: 0.0479 - val_loss: 0.0539\n",
            "Epoch 3/10\n",
            "14/14 [==============================] - 0s 7ms/step - loss: 0.0470 - val_loss: 0.0336\n",
            "Epoch 4/10\n",
            "14/14 [==============================] - 0s 7ms/step - loss: 0.0384 - val_loss: 0.0352\n",
            "Epoch 5/10\n",
            "14/14 [==============================] - 0s 6ms/step - loss: 0.0427 - val_loss: 0.0280\n",
            "Epoch 6/10\n",
            "14/14 [==============================] - 0s 7ms/step - loss: 0.0414 - val_loss: 0.0186\n",
            "Epoch 7/10\n",
            "14/14 [==============================] - 0s 6ms/step - loss: 0.0502 - val_loss: 0.0468\n",
            "Epoch 8/10\n",
            "14/14 [==============================] - 0s 5ms/step - loss: 0.0385 - val_loss: 0.0380\n",
            "Epoch 9/10\n",
            "14/14 [==============================] - 0s 6ms/step - loss: 0.0405 - val_loss: 0.0531\n",
            "Epoch 10/10\n",
            "14/14 [==============================] - 0s 6ms/step - loss: 0.0410 - val_loss: 0.0269\n"
          ],
          "name": "stdout"
        },
        {
          "output_type": "execute_result",
          "data": {
            "text/plain": [
              "<tensorflow.python.keras.callbacks.History at 0x7f76d3b6f610>"
            ]
          },
          "metadata": {
            "tags": []
          },
          "execution_count": 1014
        }
      ]
    },
    {
      "cell_type": "markdown",
      "metadata": {
        "id": "kUcD5KiUjWr1"
      },
      "source": [
        "In case the validation loss had remained significantly more than the training loss at the end of training, but was continously coming down in the last few epochs, it would have been an indication that we need to run our model for more epochs, as the model needed more training.\n",
        "\n",
        "If the validation loss had remained significantly more than the training loss at the end of training, and also become more or less static, then it would have been an indication of \"overfitting\", that is our model works far too well on the training data, it has perfectly captured it, including the noise, but it would work poorly on unseen data. In such a case, it's advised to increase the value in the dropout layer, reduce number of epcohs, increase the batch size, reduce the number of hidden layers, reduce the number of nodes in the hidden layers.\n",
        "\n",
        "Our Validation loss doesn't seem to have changed much, specially when compared to the training loss. We can attribute that to the small number of training examples that we have, in the context of the model that we have used.\n",
        "\n",
        "LSTMs and CNNs may be able to give better results than a conventional NN on the same data. That's for another time. We only want to get our first hands on experience for now."
      ]
    },
    {
      "cell_type": "markdown",
      "metadata": {
        "id": "69pXSuo5jWr1"
      },
      "source": [
        "**8. Making predictions on the test set**"
      ]
    },
    {
      "cell_type": "code",
      "metadata": {
        "trusted": true,
        "id": "soqZ5SNJjWr1",
        "colab": {
          "base_uri": "https://localhost:8080/"
        },
        "outputId": "8442ed7a-2c46-4999-cef5-89de8700ae23"
      },
      "source": [
        "y_pred = model.predict(X_test_scaled)"
      ],
      "execution_count": null,
      "outputs": [
        {
          "output_type": "stream",
          "text": [
            "WARNING:tensorflow:6 out of the last 13 calls to <function Model.make_predict_function.<locals>.predict_function at 0x7f76d991bef0> triggered tf.function retracing. Tracing is expensive and the excessive number of tracings could be due to (1) creating @tf.function repeatedly in a loop, (2) passing tensors with different shapes, (3) passing Python objects instead of tensors. For (1), please define your @tf.function outside of the loop. For (2), @tf.function has experimental_relax_shapes=True option that relaxes argument shapes that can avoid unnecessary retracing. For (3), please refer to https://www.tensorflow.org/guide/function#controlling_retracing and https://www.tensorflow.org/api_docs/python/tf/function for  more details.\n"
          ],
          "name": "stdout"
        }
      ]
    },
    {
      "cell_type": "markdown",
      "metadata": {
        "id": "UQfcZsYXjWr2"
      },
      "source": [
        "Recall that all our inputs and targets were scaled down in the range (0, 1). So, the predictions also lie in that range. We need to scale them back in the other direction"
      ]
    },
    {
      "cell_type": "code",
      "metadata": {
        "trusted": true,
        "id": "Lri_V_M6jWr2"
      },
      "source": [
        "y_pred_rescaled = Target_scaler.inverse_transform(y_pred)"
      ],
      "execution_count": null,
      "outputs": []
    },
    {
      "cell_type": "markdown",
      "metadata": {
        "id": "0A5VYgM8jWr2"
      },
      "source": [
        "**8.1. Checking the r2 score **"
      ]
    },
    {
      "cell_type": "markdown",
      "metadata": {
        "id": "V4IhA6tNjWr3"
      },
      "source": [
        "One of the ways to measure the performance of our model on the test data is to compare the error of its predictions with respect to the true values. That could be mean squared error, or mean average error etc.\n",
        "\n",
        "We could also use use something called as r_squared (or r2) score. Just remember that like Regression, it measures the squared mean distance between true values and values lying the predictor hyperplane (our predicted values), and spits out a score between 0 and 1. More the r2 score closer to one, better the predictions of your model"
      ]
    },
    {
      "cell_type": "code",
      "metadata": {
        "trusted": true,
        "colab": {
          "base_uri": "https://localhost:8080/"
        },
        "id": "S5VIVmIXjWr3",
        "outputId": "aa31ee43-f17d-43bd-ef15-1ddab7b66d81"
      },
      "source": [
        "from sklearn.metrics import r2_score\n",
        "y_test_rescaled =  Target_scaler.inverse_transform(y_test_scaled)\n",
        "score = r2_score(y_test_rescaled, y_pred_rescaled)\n",
        "print('R-squared score for the test set:', round(score,4))"
      ],
      "execution_count": null,
      "outputs": [
        {
          "output_type": "stream",
          "text": [
            "R-squared score for the test set: 0.5271\n"
          ],
          "name": "stdout"
        }
      ]
    },
    {
      "cell_type": "markdown",
      "metadata": {
        "id": "NF0_eqHRjWr3"
      },
      "source": [
        "**8.2 Plotting the predictions **"
      ]
    },
    {
      "cell_type": "markdown",
      "metadata": {
        "id": "iA9bVyoXjWr4"
      },
      "source": [
        "We can add the datatime index so that it automatically takes care of the x-axis tick labels."
      ]
    },
    {
      "cell_type": "code",
      "metadata": {
        "trusted": true,
        "id": "R7IMWR10jWr4"
      },
      "source": [
        "y_actual = pd.DataFrame(y_test_rescaled, columns=['Actual Audience'])\n",
        "\n",
        "y_hat = pd.DataFrame(y_pred_rescaled, columns=['Predicted Audience'])"
      ],
      "execution_count": null,
      "outputs": []
    },
    {
      "cell_type": "code",
      "metadata": {
        "id": "aw-kDdeS6XG5"
      },
      "source": [
        "y_hat.index = [\n",
        "        \"17-10-2014\",\n",
        "        \"18-10-2014\",\n",
        "        \"19-10-2014\",\n",
        "        \"20-10-2014\",\n",
        "        \"21-10-2014\"\n",
        "]"
      ],
      "execution_count": null,
      "outputs": []
    },
    {
      "cell_type": "code",
      "metadata": {
        "trusted": true,
        "colab": {
          "base_uri": "https://localhost:8080/",
          "height": 463
        },
        "id": "Rb8Dawy3jWr4",
        "outputId": "7ac0dbf8-94a6-4f95-85d9-f8083e89faec"
      },
      "source": [
        "plt.figure(figsize=(11, 6))\n",
        "plt.plot(y_actual, linestyle='solid', color='r')\n",
        "plt.plot(y_hat, linestyle='dashed', color='b')\n",
        "\n",
        "plt.legend(['Actual','Predicted'], loc='best', prop={'size': 14})\n",
        "plt.title('Audience', weight='bold', fontsize=16)\n",
        "plt.ylabel('Audience', weight='bold', fontsize=14)\n",
        "plt.xlabel('Day', weight='bold', fontsize=14)\n",
        "plt.xticks(weight='bold', fontsize=12, rotation=45)\n",
        "plt.yticks(weight='bold', fontsize=12)\n",
        "plt.grid(color = 'y', linewidth='0.5')\n",
        "plt.show()"
      ],
      "execution_count": null,
      "outputs": [
        {
          "output_type": "display_data",
          "data": {
            "image/png": "[encoded data removed]",
            "text/plain": [
              "<Figure size 792x432 with 1 Axes>"
            ]
          },
          "metadata": {
            "tags": [],
            "needs_background": "light"
          }
        }
      ]
    },
    {
      "cell_type": "markdown",
      "metadata": {
        "id": "tRzZ-TGKjWr5"
      },
      "source": [
        "I guess the predictions are pretty reliable, at least for a forecasting horizon of one day. Not that it has brought me any closer to owning a bitcoin. Well, Bitcoin's not doing that great either. Plenty of better stock options out there.\n",
        "\n",
        "I hope this kernel was helpful to you in one or many ways. I believe this code can be easily reused with very few modifications on any time-series forecasting problem, specially those with short term horizons."
      ]
    },
    {
      "cell_type": "markdown",
      "metadata": {
        "id": "KqTmEaLlmfot"
      },
      "source": [
        "# My Code"
      ]
    },
    {
      "cell_type": "markdown",
      "metadata": {
        "id": "dBPicnXvwRE0"
      },
      "source": [
        "Make prediction for next 7 days"
      ]
    },
    {
      "cell_type": "code",
      "metadata": {
        "id": "EV82DrgDminc"
      },
      "source": [
        "df_copy = df_new.reset_index(drop=True)\n",
        "\n",
        "df_train_plus_valid = df_copy.iloc[ : ]\n",
        "\n",
        "df_train = df_train_plus_valid.iloc[ : ]\n",
        "\n",
        "x_data = df_train.iloc[-6:, 1:]\n",
        "\n",
        "last_row = df_train.iloc[-1:, :].shift(1, axis=1)\n",
        "x_data = x_data.append(last_row.iloc[0:, 1:])"
      ],
      "execution_count": null,
      "outputs": []
    },
    {
      "cell_type": "code",
      "metadata": {
        "colab": {
          "base_uri": "https://localhost:8080/",
          "height": 291
        },
        "id": "XRj1d1FxyKhf",
        "outputId": "d6292527-6a79-420b-d18f-be98a07a1008"
      },
      "source": [
        "x_data"
      ],
      "execution_count": null,
      "outputs": [
        {
          "output_type": "execute_result",
          "data": {
            "text/html": [
              "<div>\n",
              "<style scoped>\n",
              "    .dataframe tbody tr th:only-of-type {\n",
              "        vertical-align: middle;\n",
              "    }\n",
              "\n",
              "    .dataframe tbody tr th {\n",
              "        vertical-align: top;\n",
              "    }\n",
              "\n",
              "    .dataframe thead th {\n",
              "        text-align: right;\n",
              "    }\n",
              "</style>\n",
              "<table border=\"1\" class=\"dataframe\">\n",
              "  <thead>\n",
              "    <tr style=\"text-align: right;\">\n",
              "      <th></th>\n",
              "      <th>Audience_(t-1)</th>\n",
              "      <th>Audience_(t-2)</th>\n",
              "      <th>Audience_(t-3)</th>\n",
              "      <th>Audience_(t-4)</th>\n",
              "      <th>Audience_(t-5)</th>\n",
              "      <th>Audience_(t-6)</th>\n",
              "      <th>Audience_(t-7)</th>\n",
              "      <th>Audience_(t-8)</th>\n",
              "      <th>Audience_(t-9)</th>\n",
              "      <th>Audience_(t-10)</th>\n",
              "      <th>Audience_(t-11)</th>\n",
              "      <th>Audience_(t-12)</th>\n",
              "      <th>Audience_(t-13)</th>\n",
              "      <th>Audience_(t-14)</th>\n",
              "      <th>Audience_(t-15)</th>\n",
              "    </tr>\n",
              "  </thead>\n",
              "  <tbody>\n",
              "    <tr>\n",
              "      <th>74</th>\n",
              "      <td>4378.0</td>\n",
              "      <td>4592.0</td>\n",
              "      <td>4894.0</td>\n",
              "      <td>5333.0</td>\n",
              "      <td>6313.0</td>\n",
              "      <td>5631.0</td>\n",
              "      <td>5101.0</td>\n",
              "      <td>5186.0</td>\n",
              "      <td>4815.0</td>\n",
              "      <td>5454.0</td>\n",
              "      <td>7444.0</td>\n",
              "      <td>6853.0</td>\n",
              "      <td>5869.0</td>\n",
              "      <td>5312.0</td>\n",
              "      <td>5290.0</td>\n",
              "    </tr>\n",
              "    <tr>\n",
              "      <th>75</th>\n",
              "      <td>4697.0</td>\n",
              "      <td>4378.0</td>\n",
              "      <td>4592.0</td>\n",
              "      <td>4894.0</td>\n",
              "      <td>5333.0</td>\n",
              "      <td>6313.0</td>\n",
              "      <td>5631.0</td>\n",
              "      <td>5101.0</td>\n",
              "      <td>5186.0</td>\n",
              "      <td>4815.0</td>\n",
              "      <td>5454.0</td>\n",
              "      <td>7444.0</td>\n",
              "      <td>6853.0</td>\n",
              "      <td>5869.0</td>\n",
              "      <td>5312.0</td>\n",
              "    </tr>\n",
              "    <tr>\n",
              "      <th>76</th>\n",
              "      <td>5160.0</td>\n",
              "      <td>4697.0</td>\n",
              "      <td>4378.0</td>\n",
              "      <td>4592.0</td>\n",
              "      <td>4894.0</td>\n",
              "      <td>5333.0</td>\n",
              "      <td>6313.0</td>\n",
              "      <td>5631.0</td>\n",
              "      <td>5101.0</td>\n",
              "      <td>5186.0</td>\n",
              "      <td>4815.0</td>\n",
              "      <td>5454.0</td>\n",
              "      <td>7444.0</td>\n",
              "      <td>6853.0</td>\n",
              "      <td>5869.0</td>\n",
              "    </tr>\n",
              "    <tr>\n",
              "      <th>77</th>\n",
              "      <td>6137.0</td>\n",
              "      <td>5160.0</td>\n",
              "      <td>4697.0</td>\n",
              "      <td>4378.0</td>\n",
              "      <td>4592.0</td>\n",
              "      <td>4894.0</td>\n",
              "      <td>5333.0</td>\n",
              "      <td>6313.0</td>\n",
              "      <td>5631.0</td>\n",
              "      <td>5101.0</td>\n",
              "      <td>5186.0</td>\n",
              "      <td>4815.0</td>\n",
              "      <td>5454.0</td>\n",
              "      <td>7444.0</td>\n",
              "      <td>6853.0</td>\n",
              "    </tr>\n",
              "    <tr>\n",
              "      <th>78</th>\n",
              "      <td>5401.0</td>\n",
              "      <td>6137.0</td>\n",
              "      <td>5160.0</td>\n",
              "      <td>4697.0</td>\n",
              "      <td>4378.0</td>\n",
              "      <td>4592.0</td>\n",
              "      <td>4894.0</td>\n",
              "      <td>5333.0</td>\n",
              "      <td>6313.0</td>\n",
              "      <td>5631.0</td>\n",
              "      <td>5101.0</td>\n",
              "      <td>5186.0</td>\n",
              "      <td>4815.0</td>\n",
              "      <td>5454.0</td>\n",
              "      <td>7444.0</td>\n",
              "    </tr>\n",
              "    <tr>\n",
              "      <th>79</th>\n",
              "      <td>3478.0</td>\n",
              "      <td>5401.0</td>\n",
              "      <td>6137.0</td>\n",
              "      <td>5160.0</td>\n",
              "      <td>4697.0</td>\n",
              "      <td>4378.0</td>\n",
              "      <td>4592.0</td>\n",
              "      <td>4894.0</td>\n",
              "      <td>5333.0</td>\n",
              "      <td>6313.0</td>\n",
              "      <td>5631.0</td>\n",
              "      <td>5101.0</td>\n",
              "      <td>5186.0</td>\n",
              "      <td>4815.0</td>\n",
              "      <td>5454.0</td>\n",
              "    </tr>\n",
              "    <tr>\n",
              "      <th>79</th>\n",
              "      <td>178.0</td>\n",
              "      <td>3478.0</td>\n",
              "      <td>5401.0</td>\n",
              "      <td>6137.0</td>\n",
              "      <td>5160.0</td>\n",
              "      <td>4697.0</td>\n",
              "      <td>4378.0</td>\n",
              "      <td>4592.0</td>\n",
              "      <td>4894.0</td>\n",
              "      <td>5333.0</td>\n",
              "      <td>6313.0</td>\n",
              "      <td>5631.0</td>\n",
              "      <td>5101.0</td>\n",
              "      <td>5186.0</td>\n",
              "      <td>4815.0</td>\n",
              "    </tr>\n",
              "  </tbody>\n",
              "</table>\n",
              "</div>"
            ],
            "text/plain": [
              "    Audience_(t-1)  Audience_(t-2)  ...  Audience_(t-14)  Audience_(t-15)\n",
              "74          4378.0          4592.0  ...           5312.0           5290.0\n",
              "75          4697.0          4378.0  ...           5869.0           5312.0\n",
              "76          5160.0          4697.0  ...           6853.0           5869.0\n",
              "77          6137.0          5160.0  ...           7444.0           6853.0\n",
              "78          5401.0          6137.0  ...           5454.0           7444.0\n",
              "79          3478.0          5401.0  ...           4815.0           5454.0\n",
              "79           178.0          3478.0  ...           5186.0           4815.0\n",
              "\n",
              "[7 rows x 15 columns]"
            ]
          },
          "metadata": {
            "tags": []
          },
          "execution_count": 1022
        }
      ]
    },
    {
      "cell_type": "code",
      "metadata": {
        "id": "acquWS3wyLfs"
      },
      "source": [
        "x_data_scaled = Feature_scaler.fit_transform(np.array(x_data))"
      ],
      "execution_count": null,
      "outputs": []
    },
    {
      "cell_type": "code",
      "metadata": {
        "id": "mPjlAvFn14S7"
      },
      "source": [
        "y_pred = model.predict(x_data_scaled)"
      ],
      "execution_count": null,
      "outputs": []
    },
    {
      "cell_type": "code",
      "metadata": {
        "id": "W3-6QIDJ18QB"
      },
      "source": [
        "y_pred_rescaled = Target_scaler.inverse_transform(y_pred)"
      ],
      "execution_count": null,
      "outputs": []
    },
    {
      "cell_type": "code",
      "metadata": {
        "id": "oIJyAsjT1-bd"
      },
      "source": [
        "y_audience = pd.DataFrame(y_pred_rescaled, columns=['Predicted Audience'])"
      ],
      "execution_count": null,
      "outputs": []
    },
    {
      "cell_type": "code",
      "metadata": {
        "id": "ETUZW3zT6BQ9"
      },
      "source": [
        "y_audience.index = [\n",
        "        \"22-10-2014\",\n",
        "        \"23-10-2014\",\n",
        "        \"24-10-2014\",\n",
        "        \"25-10-2014\",\n",
        "        \"26-10-2014\",\n",
        "        \"27-10-2014\",\n",
        "        \"28-10-2014\",\n",
        "]"
      ],
      "execution_count": null,
      "outputs": []
    },
    {
      "cell_type": "code",
      "metadata": {
        "colab": {
          "base_uri": "https://localhost:8080/",
          "height": 254
        },
        "id": "WlfX8KxB6-hj",
        "outputId": "8a40d839-dc16-4463-f010-de00274addd5"
      },
      "source": [
        "y_audience = y_audience.round(0)\n",
        "y_audience[\"Predicted Audience\"] = y_audience[\"Predicted Audience\"].astype('int')\n",
        "y_audience"
      ],
      "execution_count": null,
      "outputs": [
        {
          "output_type": "execute_result",
          "data": {
            "text/html": [
              "<div>\n",
              "<style scoped>\n",
              "    .dataframe tbody tr th:only-of-type {\n",
              "        vertical-align: middle;\n",
              "    }\n",
              "\n",
              "    .dataframe tbody tr th {\n",
              "        vertical-align: top;\n",
              "    }\n",
              "\n",
              "    .dataframe thead th {\n",
              "        text-align: right;\n",
              "    }\n",
              "</style>\n",
              "<table border=\"1\" class=\"dataframe\">\n",
              "  <thead>\n",
              "    <tr style=\"text-align: right;\">\n",
              "      <th></th>\n",
              "      <th>Predicted Audience</th>\n",
              "    </tr>\n",
              "  </thead>\n",
              "  <tbody>\n",
              "    <tr>\n",
              "      <th>22-10-2014</th>\n",
              "      <td>1925</td>\n",
              "    </tr>\n",
              "    <tr>\n",
              "      <th>23-10-2014</th>\n",
              "      <td>3706</td>\n",
              "    </tr>\n",
              "    <tr>\n",
              "      <th>24-10-2014</th>\n",
              "      <td>5913</td>\n",
              "    </tr>\n",
              "    <tr>\n",
              "      <th>25-10-2014</th>\n",
              "      <td>6191</td>\n",
              "    </tr>\n",
              "    <tr>\n",
              "      <th>26-10-2014</th>\n",
              "      <td>3690</td>\n",
              "    </tr>\n",
              "    <tr>\n",
              "      <th>27-10-2014</th>\n",
              "      <td>2245</td>\n",
              "    </tr>\n",
              "    <tr>\n",
              "      <th>28-10-2014</th>\n",
              "      <td>1850</td>\n",
              "    </tr>\n",
              "  </tbody>\n",
              "</table>\n",
              "</div>"
            ],
            "text/plain": [
              "            Predicted Audience\n",
              "22-10-2014                1925\n",
              "23-10-2014                3706\n",
              "24-10-2014                5913\n",
              "25-10-2014                6191\n",
              "26-10-2014                3690\n",
              "27-10-2014                2245\n",
              "28-10-2014                1850"
            ]
          },
          "metadata": {
            "tags": []
          },
          "execution_count": 1028
        }
      ]
    },
    {
      "cell_type": "code",
      "metadata": {
        "colab": {
          "base_uri": "https://localhost:8080/",
          "height": 463
        },
        "id": "JL6rHGn62Eaw",
        "outputId": "9f4b2df2-319e-458c-92e0-9da122e959d3"
      },
      "source": [
        "plt.figure(figsize=(11, 6))\n",
        "plt.plot(y_audience, linestyle='dashed', color='b')\n",
        "\n",
        "plt.legend(['Predicted'], loc='best', prop={'size': 14})\n",
        "plt.title('Audience', weight='bold', fontsize=16)\n",
        "plt.ylabel('Audience', weight='bold', fontsize=14)\n",
        "plt.xlabel('Day', weight='bold', fontsize=14)\n",
        "plt.xticks(weight='bold', fontsize=12, rotation=45)\n",
        "plt.yticks(weight='bold', fontsize=12)\n",
        "plt.grid(color = 'y', linewidth='0.5')\n",
        "plt.show()"
      ],
      "execution_count": null,
      "outputs": [
        {
          "output_type": "display_data",
          "data": {
            "image/png": "[encoded data removed]",
            "text/plain": [
              "<Figure size 792x432 with 1 Axes>"
            ]
          },
          "metadata": {
            "tags": [],
            "needs_background": "light"
          }
        }
      ]
    },
    {
      "cell_type": "code",
      "metadata": {
        "id": "ee-T3rHe2Liu"
      },
      "source": [
        ""
      ],
      "execution_count": null,
      "outputs": []
    }
  ]
}